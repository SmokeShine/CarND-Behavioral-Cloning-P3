{
 "cells": [
  {
   "cell_type": "code",
   "execution_count": 5,
   "metadata": {},
   "outputs": [],
   "source": [
    "import pickle\n",
    "import numpy as np\n",
    "import tensorflow as tf\n",
    "\n",
    "# Load pickled data\n",
    "with open('small_traffic_set/small_train_traffic.p', mode='rb') as f:\n",
    "    data = pickle.load(f)  "
   ]
  },
  {
   "cell_type": "code",
   "execution_count": 6,
   "metadata": {},
   "outputs": [],
   "source": [
    "# split data\n",
    "X_train, y_train= data['features'], data['labels']"
   ]
  },
  {
   "cell_type": "code",
   "execution_count": 36,
   "metadata": {},
   "outputs": [],
   "source": [
    "# Setup Keras\n",
    "from keras.models import Sequential\n",
    "from keras.layers.core import Dense, Activation, Flatten,Dropout\n",
    "from keras.layers.convolutional import Conv2D,MaxPooling2D"
   ]
  },
  {
   "cell_type": "code",
   "execution_count": 8,
   "metadata": {},
   "outputs": [],
   "source": [
    "# Build from the previous network.\n",
    "\n",
    "# model = Sequential()\n",
    "# model.add(Flatten(input_shape=(32, 32, 3)))\n",
    "# model.add(Dense(128))\n",
    "# model.add(Activation('relu'))\n",
    "# model.add(Dense(5))\n",
    "# model.add(Activation('softmax'))\n",
    "# model.summary()\n",
    "\n",
    "# Add a convolutional layer with 32 filters, a 3x3 kernel, and valid padding before the flatten layer.\n",
    "# Add a ReLU activation after the convolutional layer.\n",
    "# Train for 3 epochs again, should be able to get over 50% accuracy."
   ]
  },
  {
   "cell_type": "code",
   "execution_count": 37,
   "metadata": {},
   "outputs": [],
   "source": [
    "# TODO: Build Convolutional Neural Network in Keras Here\n",
    "model = Sequential()\n",
    "model.add(Conv2D(32, kernel_size=(3, 3),\n",
    "                 padding='valid',\n",
    "                 activation='relu',\n",
    "                 input_shape=(32, 32, 3)))\n",
    "# Add a 2x2 max pooling layer immediately following your convolutional layer.\n",
    "model.add(MaxPooling2D(2,2))\n",
    "# Add a dropout layer after the pooling layer. Set the dropout rate to 50%.\n",
    "model.add(Dropout(0.5))\n",
    "model.add(Flatten())\n",
    "model.add(Dense(128))\n",
    "model.add(Activation('relu'))\n",
    "model.add(Dense(5))\n",
    "model.add(Activation('softmax'))"
   ]
  },
  {
   "cell_type": "code",
   "execution_count": 38,
   "metadata": {},
   "outputs": [
    {
     "name": "stdout",
     "output_type": "stream",
     "text": [
      "_________________________________________________________________\n",
      "Layer (type)                 Output Shape              Param #   \n",
      "=================================================================\n",
      "conv2d_8 (Conv2D)            (None, 30, 30, 32)        896       \n",
      "_________________________________________________________________\n",
      "max_pooling2d_4 (MaxPooling2 (None, 15, 15, 32)        0         \n",
      "_________________________________________________________________\n",
      "dropout_1 (Dropout)          (None, 15, 15, 32)        0         \n",
      "_________________________________________________________________\n",
      "flatten_8 (Flatten)          (None, 7200)              0         \n",
      "_________________________________________________________________\n",
      "dense_15 (Dense)             (None, 128)               921728    \n",
      "_________________________________________________________________\n",
      "activation_15 (Activation)   (None, 128)               0         \n",
      "_________________________________________________________________\n",
      "dense_16 (Dense)             (None, 5)                 645       \n",
      "_________________________________________________________________\n",
      "activation_16 (Activation)   (None, 5)                 0         \n",
      "=================================================================\n",
      "Total params: 923,269\n",
      "Trainable params: 923,269\n",
      "Non-trainable params: 0\n",
      "_________________________________________________________________\n"
     ]
    }
   ],
   "source": [
    "model.summary()"
   ]
  },
  {
   "cell_type": "code",
   "execution_count": 39,
   "metadata": {},
   "outputs": [],
   "source": [
    "# Preprocess data\n",
    "X_normalized = np.array(X_train / 255.0 - 0.5 )\n",
    "\n",
    "from sklearn.preprocessing import LabelBinarizer\n",
    "label_binarizer = LabelBinarizer()\n",
    "y_one_hot = label_binarizer.fit_transform(y_train)"
   ]
  },
  {
   "cell_type": "code",
   "execution_count": 54,
   "metadata": {},
   "outputs": [
    {
     "name": "stdout",
     "output_type": "stream",
     "text": [
      "Train on 80 samples, validate on 20 samples\n",
      "Epoch 1/8\n",
      "80/80 [==============================] - 0s 2ms/step - loss: 0.1903 - acc: 0.9250 - val_loss: 0.1574 - val_acc: 0.8500\n",
      "Epoch 2/8\n",
      "80/80 [==============================] - 0s 732us/step - loss: 0.1499 - acc: 0.9000 - val_loss: 0.0788 - val_acc: 1.0000\n",
      "Epoch 3/8\n",
      "80/80 [==============================] - 0s 720us/step - loss: 0.1567 - acc: 0.9125 - val_loss: 0.0551 - val_acc: 1.0000\n",
      "Epoch 4/8\n",
      "80/80 [==============================] - 0s 758us/step - loss: 0.0851 - acc: 1.0000 - val_loss: 0.0805 - val_acc: 1.0000\n",
      "Epoch 5/8\n",
      "80/80 [==============================] - 0s 655us/step - loss: 0.0911 - acc: 0.9750 - val_loss: 0.0424 - val_acc: 1.0000\n",
      "Epoch 6/8\n",
      "80/80 [==============================] - 0s 703us/step - loss: 0.0581 - acc: 1.0000 - val_loss: 0.0463 - val_acc: 1.0000\n",
      "Epoch 7/8\n",
      "80/80 [==============================] - 0s 751us/step - loss: 0.0595 - acc: 1.0000 - val_loss: 0.0308 - val_acc: 1.0000\n",
      "Epoch 8/8\n",
      "80/80 [==============================] - 0s 707us/step - loss: 0.0411 - acc: 1.0000 - val_loss: 0.0321 - val_acc: 1.0000\n"
     ]
    }
   ],
   "source": [
    "# compile and train model\n",
    "# Training for 3 epochs should result in > 50% accuracy\n",
    "model.compile('adam', 'categorical_crossentropy', ['accuracy'])\n",
    "history = model.fit(X_normalized, y_one_hot, epochs=8, validation_split=0.2)"
   ]
  },
  {
   "cell_type": "code",
   "execution_count": 45,
   "metadata": {},
   "outputs": [],
   "source": [
    "# Try to get the highest validation accuracy possible. Feel free to use all the previous concepts and train for as many epochs as needed.\n",
    "# Select your best model and train it one more time.\n",
    "# Use the test data and the Keras evaluate() method to see how well the model does."
   ]
  },
  {
   "cell_type": "code",
   "execution_count": 55,
   "metadata": {},
   "outputs": [
    {
     "name": "stdout",
     "output_type": "stream",
     "text": [
      "Testing\n",
      "20/20 [==============================] - 0s 216us/step\n",
      "loss: 0.05307658761739731\n",
      "acc: 1.0\n"
     ]
    }
   ],
   "source": [
    "# evaluate model against the test data\n",
    "with open('small_traffic_set/small_test_traffic.p', 'rb') as f:\n",
    "    data_test = pickle.load(f)\n",
    "\n",
    "X_test = data_test['features']\n",
    "y_test = data_test['labels']\n",
    "\n",
    "# preprocess data\n",
    "X_normalized_test = np.array(X_test / 255.0 - 0.5 )\n",
    "y_one_hot_test = label_binarizer.fit_transform(y_test)\n",
    "\n",
    "print(\"Testing\")\n",
    "\n",
    "metrics = model.evaluate(X_normalized_test, y_one_hot_test)\n",
    "for metric_i in range(len(model.metrics_names)):\n",
    "    metric_name = model.metrics_names[metric_i]\n",
    "    metric_value = metrics[metric_i]\n",
    "    print('{}: {}'.format(metric_name, metric_value))  "
   ]
  },
  {
   "cell_type": "code",
   "execution_count": 56,
   "metadata": {},
   "outputs": [],
   "source": [
    "import os\n",
    "import sys\n",
    "import cv2\n",
    "import json\n",
    "import numpy as np\n",
    "from keras.layers.core import Dense, Activation, Flatten\n",
    "from keras.activations import relu, softmax\n",
    "    \n",
    "def get_result(metrics):\n",
    "    \n",
    "    result = {'is_correct': False, 'error': False, 'values': [],\n",
    "              'output': '', 'feedback': '', 'comment': \"\"}\n",
    "    \n",
    "    try:        \n",
    "        \n",
    "        if metrics is not Ellipsis:\n",
    "            metric_value = metrics[1]\n",
    "\n",
    "            if metric_value < 0.5:\n",
    "                result[\"is_correct\"] = False\n",
    "                result[\"comment\"] = 'I bet you can do better than 50%'\n",
    "                result[\"feedback\"] = 'Accuracy was '+ str(metric_value)\n",
    "            elif metric_value < 0.90:\n",
    "                result[\"is_correct\"] = True\n",
    "                result[\"comment\"] = 'But can you get above 90%?'\n",
    "                result[\"feedback\"] = 'Accuracy was '+ str(metric_value)\n",
    "            else:\n",
    "                result[\"is_correct\"] = True\n",
    "                result[\"comment\"] = 'Good Job, accuracy was above 90%'\n",
    "                result[\"feedback\"] = 'Nice, accuracy was '+ str(metric_value)\n",
    "        else:\n",
    "            result[\"is_correct\"] = False\n",
    "            result[\"comment\"] = 'You still need to evaluate the test data'\n",
    "            result[\"feedback\"] = 'evaluate method was empty'\n",
    "            \n",
    "    except Exception as err:\n",
    "        result['is_correct'] = False\n",
    "        result['feedback'] = 'Oops looks like you got an Error'\n",
    "        result['error'] = str(err)\n",
    "    \n",
    "    return result\n",
    "\n",
    "def run_grader(metrics):\n",
    "    \n",
    "    try:\n",
    "    # Get grade result information\n",
    "        result = get_result(metrics)\n",
    "    except Exception as err:\n",
    "        # Default error result\n",
    "        result = {\n",
    "            'correct': False,\n",
    "            'feedback': 'Something went wrong with your submission:',\n",
    "            'comment': str(err)}\n",
    "\n",
    "    feedback = result.get('feedback')\n",
    "    comment = result.get('comment')\n",
    "\n",
    "    print(feedback,comment)\n",
    "\n"
   ]
  },
  {
   "cell_type": "code",
   "execution_count": 57,
   "metadata": {},
   "outputs": [
    {
     "name": "stdout",
     "output_type": "stream",
     "text": [
      "Nice, accuracy was 1.0 Good Job, accuracy was above 90%\n"
     ]
    }
   ],
   "source": [
    "### DON'T MODIFY ANYTHING BELOW ###\n",
    "### Be sure to run all cells above before running this cell ###\n",
    "\n",
    "try:\n",
    "    run_grader(metrics)\n",
    "except Exception as err:\n",
    "    print(str(err))"
   ]
  }
 ],
 "metadata": {
  "kernelspec": {
   "display_name": "Python 3",
   "language": "python",
   "name": "python3"
  },
  "language_info": {
   "codemirror_mode": {
    "name": "ipython",
    "version": 3
   },
   "file_extension": ".py",
   "mimetype": "text/x-python",
   "name": "python",
   "nbconvert_exporter": "python",
   "pygments_lexer": "ipython3",
   "version": "3.5.2"
  },
  "widgets": {
   "state": {},
   "version": "1.1.2"
  }
 },
 "nbformat": 4,
 "nbformat_minor": 2
}
