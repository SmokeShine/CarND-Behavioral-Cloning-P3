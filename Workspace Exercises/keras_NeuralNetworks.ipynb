{
 "cells": [
  {
   "cell_type": "code",
   "execution_count": 1,
   "metadata": {},
   "outputs": [],
   "source": [
    "import pickle\n",
    "import numpy as np\n",
    "import tensorflow as tf\n",
    "\n",
    "# Load pickled data\n",
    "with open('small_traffic_set/small_train_traffic.p', mode='rb') as f:\n",
    "    data = pickle.load(f)"
   ]
  },
  {
   "cell_type": "code",
   "execution_count": 2,
   "metadata": {},
   "outputs": [],
   "source": [
    "# split data\n",
    "X_train, y_train = data['features'], data['labels']"
   ]
  },
  {
   "cell_type": "code",
   "execution_count": 5,
   "metadata": {},
   "outputs": [
    {
     "data": {
      "text/plain": [
       "(100, 32, 32, 3)"
      ]
     },
     "execution_count": 5,
     "metadata": {},
     "output_type": "execute_result"
    }
   ],
   "source": [
    "X_train.shape"
   ]
  },
  {
   "cell_type": "code",
   "execution_count": 6,
   "metadata": {},
   "outputs": [
    {
     "name": "stderr",
     "output_type": "stream",
     "text": [
      "Using TensorFlow backend.\n"
     ]
    }
   ],
   "source": [
    "# Setup Keras\n",
    "from keras.models import Sequential\n",
    "from keras.layers.core import Dense, Activation, Flatten"
   ]
  },
  {
   "cell_type": "code",
   "execution_count": 8,
   "metadata": {},
   "outputs": [],
   "source": [
    "# Set the first layer to a Flatten() layer with the input_shape set to (32, 32, 3).\n",
    "# Set the second layer to a Dense() layer with an output width of 128.\n",
    "# Use a ReLU activation function after the second layer.\n",
    "# Set the output layer width to 5, because for this data set there are only 5 classes.\n",
    "# Use a softmax activation function after the output layer.\n",
    "# Train the model for 3 epochs. You should be able to get over 50% training accuracy"
   ]
  },
  {
   "cell_type": "code",
   "execution_count": 16,
   "metadata": {},
   "outputs": [
    {
     "name": "stdout",
     "output_type": "stream",
     "text": [
      "_________________________________________________________________\n",
      "Layer (type)                 Output Shape              Param #   \n",
      "=================================================================\n",
      "flatten_7 (Flatten)          (None, 3072)              0         \n",
      "_________________________________________________________________\n",
      "dense_6 (Dense)              (None, 128)               393344    \n",
      "_________________________________________________________________\n",
      "activation_6 (Activation)    (None, 128)               0         \n",
      "_________________________________________________________________\n",
      "dense_7 (Dense)              (None, 5)                 645       \n",
      "_________________________________________________________________\n",
      "activation_7 (Activation)    (None, 5)                 0         \n",
      "=================================================================\n",
      "Total params: 393,989\n",
      "Trainable params: 393,989\n",
      "Non-trainable params: 0\n",
      "_________________________________________________________________\n"
     ]
    }
   ],
   "source": [
    "# TODO: Build the Fully Connected Neural Network in Keras Here\n",
    "model = Sequential()\n",
    "model.add(Flatten(input_shape=(32, 32, 3)))\n",
    "model.add(Dense(128))\n",
    "model.add(Activation('relu'))\n",
    "model.add(Dense(5))\n",
    "model.add(Activation('softmax'))\n",
    "model.summary()"
   ]
  },
  {
   "cell_type": "code",
   "execution_count": 17,
   "metadata": {},
   "outputs": [
    {
     "name": "stderr",
     "output_type": "stream",
     "text": [
      "/root/miniconda3/envs/carnd-term1/lib/python3.5/site-packages/sklearn/utils/fixes.py:313: FutureWarning: numpy not_equal will not check object identity in the future. The comparison did not return the same result as suggested by the identity (`is`)) and will change.\n",
      "  _nan_object_mask = _nan_object_array != _nan_object_array\n"
     ]
    },
    {
     "name": "stdout",
     "output_type": "stream",
     "text": [
      "Train on 80 samples, validate on 20 samples\n",
      "Epoch 1/3\n",
      "80/80 [==============================] - 1s 7ms/step - loss: 1.5391 - acc: 0.4250 - val_loss: 0.8085 - val_acc: 0.6000\n",
      "Epoch 2/3\n",
      "80/80 [==============================] - 0s 236us/step - loss: 0.9297 - acc: 0.6375 - val_loss: 0.5509 - val_acc: 0.9500\n",
      "Epoch 3/3\n",
      "80/80 [==============================] - 0s 199us/step - loss: 0.6719 - acc: 0.7375 - val_loss: 0.5205 - val_acc: 0.7500\n"
     ]
    }
   ],
   "source": [
    "# preprocess data\n",
    "X_normalized = np.array(X_train / 255.0 - 0.5 )\n",
    "\n",
    "from sklearn.preprocessing import LabelBinarizer\n",
    "label_binarizer = LabelBinarizer()\n",
    "y_one_hot = label_binarizer.fit_transform(y_train)\n",
    "\n",
    "model.compile('adam', 'categorical_crossentropy', ['accuracy'])\n",
    "# TODO: change the number of training epochs to 3\n",
    "history = model.fit(X_normalized, y_one_hot, epochs=3, validation_split=0.2)"
   ]
  },
  {
   "cell_type": "code",
   "execution_count": 25,
   "metadata": {},
   "outputs": [],
   "source": [
    "import os\n",
    "import sys\n",
    "import cv2\n",
    "import json\n",
    "import numpy as np\n",
    "import keras\n",
    "from keras.layers.core import Dense, Activation, Flatten\n",
    "from keras.activations import relu, softmax\n",
    "    \n",
    "def get_result(model, history):\n",
    "    \n",
    "    result = {'is_correct': False, 'error': False, 'values': [],\n",
    "              'output': '', 'feedback': '', 'comment': \"\"}\n",
    "    \n",
    "    try:       \n",
    "        check_shape_expanded = None\n",
    "        check_shape_mixed = None\n",
    "        check_shape_compressed = None\n",
    "        \n",
    "        if len(model.layers) > 4:        \n",
    "            check_shape_expanded = (model.layers[0].input_shape == (None, 32, 32, 3)) & \\\n",
    "                          (model.layers[1].output_shape == (None, 128)) & \\\n",
    "                          (model.layers[2].activation == relu) & \\\n",
    "                          (model.layers[3].output_shape == (None, 5)) & \\\n",
    "                          (model.layers[4].activation == softmax)\n",
    "        elif len(model.layers) > 3:\n",
    "            check_shape_mixed = (model.layers[0].input_shape == (None, 32, 32, 3)) & \\\n",
    "                          (model.layers[1].output_shape == (None, 128)) & \\\n",
    "                          (model.layers[1].activation == keras.activations.relu) & \\\n",
    "                          (model.layers[2].output_shape == (None, 5)) & \\\n",
    "                          (model.layers[3].activation == softmax)\n",
    "            if not check_shape_mixed:\n",
    "                check_shape_mixed = (model.layers[0].input_shape == (None, 32, 32, 3)) & \\\n",
    "                          (model.layers[1].output_shape == (None, 128)) & \\\n",
    "                          (model.layers[2].activation == relu) & \\\n",
    "                          (model.layers[3].output_shape == (None, 5)) & \\\n",
    "                          (model.layers[3].activation == keras.activations.softmax)\n",
    "        else:        \n",
    "            check_shape_compressed = (model.layers[0].input_shape == (None, 32, 32, 3)) & \\\n",
    "                          (model.layers[1].output_shape == (None, 128)) & \\\n",
    "                          (model.layers[1].activation == keras.activations.relu) & \\\n",
    "                          (model.layers[2].output_shape == (None, 5)) & \\\n",
    "                          (model.layers[2].activation == keras.activations.softmax)\n",
    "        \n",
    "\n",
    "        if check_shape_expanded or check_shape_mixed or check_shape_compressed:\n",
    "            if history.history['acc'][-1] > 0.5:\n",
    "                result[\"is_correct\"] = True\n",
    "                result[\"comment\"] = 'Looks good!'\n",
    "                result[\"feedback\"] = 'Nice work!'\n",
    "            else:\n",
    "                result[\"is_correct\"] = False\n",
    "                result[\"comment\"] = 'The accuracy was less than 50%'\n",
    "                result[\"feedback\"] = 'Make sure you are running the model for enough epochs'\n",
    "        else:\n",
    "            result[\"is_correct\"] = False\n",
    "            result[\"comment\"] = 'The model layout looks incorrect'\n",
    "            result[\"feedback\"] = 'Try following the model layout from the instructions'\n",
    "    except Exception as err:\n",
    "        result['is_correct'] = False\n",
    "        result['feedback'] = 'Oops, looks like you got an error!'\n",
    "        result['error'] = str(err)\n",
    "\n",
    "    return result\n",
    "\n",
    "def run_grader(model, history):\n",
    "    \n",
    "    try:\n",
    "    # Get grade result information\n",
    "        result = get_result(model, history)\n",
    "    except Exception as err:\n",
    "        # Default error result\n",
    "        result = {\n",
    "            'correct': False,\n",
    "            'feedback': 'Something went wrong with your submission:',\n",
    "            'comment': str(err)}\n",
    "\n",
    "    feedback = result.get('feedback')\n",
    "    comment = result.get('comment')\n",
    "\n",
    "    print(feedback,comment)"
   ]
  },
  {
   "cell_type": "code",
   "execution_count": 26,
   "metadata": {},
   "outputs": [
    {
     "name": "stdout",
     "output_type": "stream",
     "text": [
      "Nice work! Looks good!\n"
     ]
    }
   ],
   "source": [
    "try:\n",
    "    run_grader(model, history)\n",
    "except Exception as err:\n",
    "    print(str(err))"
   ]
  }
 ],
 "metadata": {
  "kernelspec": {
   "display_name": "Python 3",
   "language": "python",
   "name": "python3"
  },
  "language_info": {
   "codemirror_mode": {
    "name": "ipython",
    "version": 3
   },
   "file_extension": ".py",
   "mimetype": "text/x-python",
   "name": "python",
   "nbconvert_exporter": "python",
   "pygments_lexer": "ipython3",
   "version": "3.5.2"
  },
  "widgets": {
   "state": {},
   "version": "1.1.2"
  }
 },
 "nbformat": 4,
 "nbformat_minor": 2
}
